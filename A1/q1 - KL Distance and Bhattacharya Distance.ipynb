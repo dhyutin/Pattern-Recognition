{
 "cells": [
  {
   "cell_type": "code",
   "execution_count": 2,
   "id": "a40dd699",
   "metadata": {},
   "outputs": [
    {
     "name": "stdout",
     "output_type": "stream",
     "text": [
      "KL Distance(h1,h2) = 0.09075297258487511\n",
      "KL Distance(h2,h1) = 0.08115679003357537\n",
      "Bhattacharya Distance =  0.014830056106628874\n"
     ]
    }
   ],
   "source": [
    "import math\n",
    "\n",
    "# Histograms\n",
    "H1 = [ 0.24, 0.2, 0.16, 0.12, 0.08, 0.04, 0.12, 0.04]\n",
    "H2 = [ 0.22, 0.23, 0.16, 0.13, 0.11, 0.08, 0.05, 0.02]\n",
    "\n",
    "#KL Distance 1\n",
    "\n",
    "KL_dist1 = 0\n",
    "\n",
    "for i in range(len(H1)):\n",
    "    KL_dist1 = KL_dist1 + H1[i] * (math.log(((H1[i] / H2[i])), 2))\n",
    " \n",
    "#KL Distance\n",
    "KL_dist2 = 0\n",
    "\n",
    "for i in range(len(H1)):\n",
    "    KL_dist2 = KL_dist2 + H2[i] * (math.log(((H2[i] / H1[i])), 2))\n",
    "\n",
    "#Bhattacharya Distance\n",
    "\n",
    "h1_sq = []\n",
    "\n",
    "for i in range(len(H1)):\n",
    "    h1_sq.append(math.sqrt(H1[i]))\n",
    "\n",
    "h2_sq = []\n",
    "\n",
    "for i in range(len(H2)):\n",
    "    h2_sq.append(math.sqrt(H2[i]))\n",
    "\n",
    "#Bhattacharya coefficient\n",
    "costheta = 0;\n",
    "\n",
    "for i in range(len(H1)):\n",
    "    costheta = costheta + (h1_sq[i] * h2_sq[i])\n",
    "    \n",
    "Bhattacharya_dist = 0 - (math.log(costheta, 2.718281828459045))\n",
    "\n",
    "print(\"KL Distance(h1,h2) =\", KL_dist1)\n",
    "print(\"KL Distance(h2,h1) =\", KL_dist2)\n",
    "print(\"Bhattacharya Distance = \", Bhattacharya_dist)"
   ]
  },
  {
   "cell_type": "code",
   "execution_count": null,
   "id": "eb81b29a",
   "metadata": {},
   "outputs": [],
   "source": []
  }
 ],
 "metadata": {
  "kernelspec": {
   "display_name": "Python 3 (ipykernel)",
   "language": "python",
   "name": "python3"
  },
  "language_info": {
   "codemirror_mode": {
    "name": "ipython",
    "version": 3
   },
   "file_extension": ".py",
   "mimetype": "text/x-python",
   "name": "python",
   "nbconvert_exporter": "python",
   "pygments_lexer": "ipython3",
   "version": "3.9.7"
  }
 },
 "nbformat": 4,
 "nbformat_minor": 5
}
