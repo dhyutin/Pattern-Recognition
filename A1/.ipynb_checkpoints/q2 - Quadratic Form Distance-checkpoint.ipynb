{
 "cells": [
  {
   "cell_type": "code",
   "execution_count": 4,
   "id": "6295899f",
   "metadata": {},
   "outputs": [
    {
     "name": "stdout",
     "output_type": "stream",
     "text": [
      "Quadratic Form Distance =  0.8078520904224982\n"
     ]
    }
   ],
   "source": [
    "import numpy as np\n",
    "import math\n",
    "\n",
    "#let Transpose(hq - ht) = mt\n",
    "mt = [[0.5, 0.5, -0.5, -0.25, -0.25]]\n",
    "\n",
    "#let (hq - ht) = m\n",
    "m = [[mt[j][i] for j in range(len(mt))] for i in range(len(mt[0]))]\n",
    "\n",
    "#Similarity Matrix\n",
    "A =[[1, 0.135, 0.195, 0.137, 0.157],\n",
    "   [0.135, 1, 0.2, 0.309, 0.143],\n",
    "   [0.195, 0.2, 1, 0.157, 0.122],\n",
    "   [0.137, 0.309, 0.157, 1, 0.195],\n",
    "   [0.157, 0.143, 0.122, 0.195, 1]]\n",
    "\n",
    "\n",
    "# mt x A\n",
    "result = [[sum(a * b for a, b in zip(mt_row, A_col))\n",
    "                        for A_col in zip(*A)]\n",
    "                                for mt_row in mt]\n",
    "# (mt X A) X m\n",
    "result1 = [[sum(a * b for a, b in zip(result_row, m_col))\n",
    "                        for m_col in zip(*m)]\n",
    "                                for result_row in result] \n",
    "\n",
    "qfd_sq = result1[0][0]\n",
    "\n",
    "QFD = math.sqrt(qfd_sq)\n",
    "\n",
    "print(\"Quadratic Form Distance = \", QFD)"
   ]
  },
  {
   "cell_type": "code",
   "execution_count": null,
   "id": "c20853a4",
   "metadata": {},
   "outputs": [],
   "source": []
  }
 ],
 "metadata": {
  "kernelspec": {
   "display_name": "Python 3 (ipykernel)",
   "language": "python",
   "name": "python3"
  },
  "language_info": {
   "codemirror_mode": {
    "name": "ipython",
    "version": 3
   },
   "file_extension": ".py",
   "mimetype": "text/x-python",
   "name": "python",
   "nbconvert_exporter": "python",
   "pygments_lexer": "ipython3",
   "version": "3.9.7"
  }
 },
 "nbformat": 4,
 "nbformat_minor": 5
}
