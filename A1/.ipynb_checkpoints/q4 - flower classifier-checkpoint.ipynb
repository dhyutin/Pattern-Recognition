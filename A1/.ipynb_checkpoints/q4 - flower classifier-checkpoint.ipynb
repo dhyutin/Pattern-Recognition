{
 "cells": [
  {
   "cell_type": "code",
   "execution_count": 1,
   "id": "ca9ea914",
   "metadata": {},
   "outputs": [],
   "source": [
    "import csv\n",
    "import numpy as np\n",
    "import matplotlib.pyplot as plt # for plotting distribution graph\n",
    "import math\n",
    "\n",
    "file = open(\"Iris.csv\")\n",
    "iris = csv.reader(file)\n",
    "\n",
    "# Column Names\n",
    "header = next(iris)\n",
    "\n",
    "# Choose only ['PetalLengthCm', 'PetalWidthCm'] as features\n",
    "features = [header[3], header[4]]\n",
    "\n",
    "test_cases = ['1', '51', '101']\n",
    "\n",
    "# extract rows from csv file except test cases\n",
    "rows = []\n",
    "\n",
    "for row in iris:\n",
    "    if row[0] not in test_cases:\n",
    "        rows.append(row)\n",
    "      "
   ]
  },
  {
   "cell_type": "code",
   "execution_count": 2,
   "id": "a3337a32",
   "metadata": {},
   "outputs": [],
   "source": [
    "# classify flowers into their respective categories\n",
    "\n",
    "# Iris-setosa\n",
    "i_sentosa = []\n",
    "i_sen_x = []\n",
    "i_sen_y = []\n",
    "\n",
    "# Iris-versicolor\n",
    "i_versicolor = []\n",
    "i_versi_x = []\n",
    "i_versi_y = []\n",
    "\n",
    "# Iris-virginica\n",
    "i_virginica = []\n",
    "i_virgi_x = []\n",
    "i_virgi_y = []\n",
    "\n",
    "\n",
    "for i in rows:\n",
    "    feature_vectors = [i[3], i[4]]\n",
    "    if (i[5] == 'Iris-setosa'):\n",
    "        i_sentosa.append(feature_vectors)\n",
    "        i_sen_x.append(float(i[3]))\n",
    "        i_sen_y.append(float(i[4]))\n",
    "        \n",
    "    elif (i[5] == 'Iris-versicolor'):\n",
    "        i_versicolor.append(feature_vectors)\n",
    "        i_versi_x.append(float(i[3]))\n",
    "        i_versi_y.append(float(i[4]))\n",
    "        \n",
    "    elif (i[5] == 'Iris-virginica'):\n",
    "        i_virginica.append(feature_vectors)\n",
    "        i_virgi_x.append(float(i[3]))\n",
    "        i_virgi_y.append(float(i[4]))  \n",
    "        "
   ]
  },
  {
   "cell_type": "code",
   "execution_count": 3,
   "id": "c5fc0d44",
   "metadata": {},
   "outputs": [
    {
     "data": {
      "image/png": "[encoded data removed]",
      "text/plain": [
       "<Figure size 432x288 with 1 Axes>"
      ]
     },
     "metadata": {
      "needs_background": "light"
     },
     "output_type": "display_data"
    }
   ],
   "source": [
    "# 'PetalLengthCm' VS 'PetalWidthCm' Scatter plot for all three classes\n",
    "plt.scatter(i_sen_x, i_sen_y, color = 'orange')\n",
    "plt.scatter(i_versi_x, i_versi_y, color = 'yellow')\n",
    "plt.scatter(i_virgi_x, i_virgi_y, color = 'skyblue')\n",
    "\n",
    "plt.title(\"'PetalLengthCm' VS 'PetalWidthCm' Scatter plot for all three classes\")\n",
    "plt.xlabel('PetalLengthCm')\n",
    "plt.ylabel('PetalWidthCm')\n",
    "\n",
    "plt.show()"
   ]
  },
  {
   "cell_type": "code",
   "execution_count": 4,
   "id": "24e99990",
   "metadata": {},
   "outputs": [],
   "source": [
    "#find mean\n",
    "def feature_mean(list_):\n",
    "    mean = 0\n",
    "    for i in list_ :\n",
    "        mean = mean + i\n",
    "    \n",
    "    mean = mean / len(list_)\n",
    "    return mean\n",
    "\n",
    "# find the transpose of a matrix\n",
    "def matrix_transpose(arr):\n",
    "    transpose = [[arr[j][i] for j in range(len(arr))] for i in range(len(arr[0]))]\n",
    "    return transpose\n",
    "\n",
    "# A X B\n",
    "def matrix_multiplication(A, B):\n",
    "    res = [[sum(a * b for a, b in zip(A_row, B_col))\n",
    "                        for B_col in zip(*B)]\n",
    "                                for A_row in A]\n",
    "    return res\n",
    "\n",
    "# MAHALANOBIS DISTANCE\n",
    "def mahalanobis(f1, f2, array_f1, array_f2, array):\n",
    "    \n",
    "    # find the means of each fature\n",
    "    mean_f1 = feature_mean(array_f1)\n",
    "    mean_f2 = feature_mean(array_f2)\n",
    "    \n",
    "    # z is the mean vector, where respective mean of each feature is subtracted from the samples\n",
    "    z = array\n",
    "    for i in z:\n",
    "        i[0] = float(i[0]) - mean_f1\n",
    "        i[1] = float(i[1]) - mean_f2\n",
    "\n",
    "    zt = matrix_transpose(z)\n",
    "    \n",
    "    # Finding Inverse Covariance Matrix\n",
    "    # zt X z\n",
    "    cov = matrix_multiplication(zt, z)\n",
    "\n",
    "    factor = 1 / (len(i_sen_x) - 1)\n",
    "    \n",
    "    cov = np.multiply(factor, cov)\n",
    "\n",
    "    inv_cov = np.linalg.inv(cov)\n",
    "    \n",
    "    # calculate (x-y) and its transpose\n",
    "    xt = [[f1 - mean_f1, f2 - mean_f2]]\n",
    "    x = matrix_transpose(xt)\n",
    "\n",
    "\n",
    "    # Inverse Covariance X (x - y)\n",
    "    res1 = matrix_multiplication(inv_cov, x)\n",
    "\n",
    "    # (xt - yt) X res\n",
    "    res2 = matrix_multiplication(xt, res1)\n",
    "\n",
    "    mdsq = res2[0][0]\n",
    "\n",
    "    MD = math.sqrt(mdsq)\n",
    "    return MD\n",
    "\n"
   ]
  },
  {
   "cell_type": "code",
   "execution_count": 5,
   "id": "97599e4e",
   "metadata": {},
   "outputs": [],
   "source": [
    "# Classifier \n",
    "def classifier(fv) :\n",
    "    d1 = mahalanobis(fv[0], fv[1], i_sen_x, i_sen_y, i_sentosa)\n",
    "    d2 = mahalanobis(fv[0], fv[1], i_versi_x, i_versi_y, i_versicolor)\n",
    "    d3 = mahalanobis(fv[0], fv[1], i_virgi_x, i_virgi_y, i_virginica)\n",
    "    \n",
    "    if(d1 <= d2):\n",
    "        if(d1 <= d3):\n",
    "            return (\"Iris-Sentosa\")\n",
    "        else:\n",
    "            return (\"Iris-Virginica\")\n",
    "    else:\n",
    "        if(d2 <= d3):\n",
    "            return (\"Iris-Versicolor\")\n",
    "        else:\n",
    "            return (\"Iris-Virginica\")\n",
    "    return "
   ]
  },
  {
   "cell_type": "code",
   "execution_count": 6,
   "id": "7c084f28",
   "metadata": {},
   "outputs": [],
   "source": [
    "# Test Cases\n",
    "p1 = [1.4, 0.2]\n",
    "p51 = [4.7, 1.4]\n",
    "p101 = [6, 2.5]"
   ]
  },
  {
   "cell_type": "code",
   "execution_count": 7,
   "id": "43554244",
   "metadata": {},
   "outputs": [
    {
     "name": "stdout",
     "output_type": "stream",
     "text": [
      "After Classification, \n",
      "Flower 1   :  Iris-Sentosa\n",
      "Flower 51  :  Iris-Versicolor\n",
      "Flower 101 :  Iris-Virginica\n"
     ]
    },
    {
     "data": {
      "image/png": "[encoded data removed]",
      "text/plain": [
       "<Figure size 432x288 with 1 Axes>"
      ]
     },
     "metadata": {
      "needs_background": "light"
     },
     "output_type": "display_data"
    }
   ],
   "source": [
    "# Outputs\n",
    "print(\"After Classification, \")\n",
    "print(\"Flower 1   : \", classifier(p1))\n",
    "print(\"Flower 51  : \", classifier(p51))\n",
    "print(\"Flower 101 : \", classifier(p101))\n",
    "\n",
    "\n",
    "\n",
    "# 'PetalLengthCm' VS 'PetalWidthCm' Scatter plot for all three classes\n",
    "plt.scatter(i_sen_x, i_sen_y, color = 'orange')\n",
    "plt.scatter(i_versi_x, i_versi_y, color = 'yellow')\n",
    "plt.scatter(i_virgi_x, i_virgi_y, color = 'skyblue')\n",
    "\n",
    "# TEST CASES\n",
    "plt.scatter(p1[0], p1[1], color = 'red')\n",
    "plt.annotate(\"Flower 1\", (p1[0], p1[1]))\n",
    "plt.scatter(p51[0], p51[1], color = 'black')\n",
    "plt.annotate(\"Flower 51\", (p51[0], p51[1]))\n",
    "plt.scatter(p101[0], p101[1], color = 'blue')\n",
    "plt.annotate(\"Flower 101\", (p101[0], p101[1]))\n",
    "\n",
    "plt.title(\"'PetalLengthCm' VS 'PetalWidthCm' Scatter plot for all three classes\")\n",
    "plt.xlabel('PetalLengthCm')\n",
    "plt.ylabel('PetalWidthCm')\n",
    "\n",
    "plt.show()"
   ]
  },
  {
   "cell_type": "code",
   "execution_count": null,
   "id": "4b3214e8",
   "metadata": {},
   "outputs": [],
   "source": []
  }
 ],
 "metadata": {
  "kernelspec": {
   "display_name": "Python 3 (ipykernel)",
   "language": "python",
   "name": "python3"
  },
  "language_info": {
   "codemirror_mode": {
    "name": "ipython",
    "version": 3
   },
   "file_extension": ".py",
   "mimetype": "text/x-python",
   "name": "python",
   "nbconvert_exporter": "python",
   "pygments_lexer": "ipython3",
   "version": "3.9.7"
  }
 },
 "nbformat": 4,
 "nbformat_minor": 5
}
