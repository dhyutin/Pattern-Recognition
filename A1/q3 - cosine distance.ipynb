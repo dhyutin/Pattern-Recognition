{
 "cells": [
  {
   "cell_type": "code",
   "execution_count": 11,
   "id": "c6fe2df4",
   "metadata": {},
   "outputs": [],
   "source": [
    "import math\n",
    "\n",
    "# read doc1.txt and doc2.txt\n",
    "doc1 = open(r\"doc1.txt\", \"r\")\n",
    "doc2 = open(r\"doc2.txt\", \"r\")\n",
    "\n",
    "# find unique words in the document\n",
    "read_doc1 = doc1.read()\n",
    "read_doc2 = doc2.read()"
   ]
  },
  {
   "cell_type": "code",
   "execution_count": 22,
   "id": "02a0e947",
   "metadata": {},
   "outputs": [],
   "source": [
    "# find number of unique words in both documents together\n",
    "\n",
    "#Function to store all words in the document\n",
    "def store_words(doc):\n",
    "    list_ = []\n",
    "    #Random initialisation\n",
    "    word = 'a'\n",
    "    for element in doc:\n",
    "        if (element != \" \"):\n",
    "            if(element == \".\" or element == \",\"):\n",
    "                word = word\n",
    "            else:\n",
    "                word = word + element\n",
    "        else:\n",
    "            list_.append(word[1:])\n",
    "            word = 'a'\n",
    "\n",
    "    list_.append(word[1:])\n",
    "    return list_\n",
    "\n",
    "# Words in each doc\n",
    "words_doc1 = store_words(read_doc1)\n",
    "words_doc2 = store_words(read_doc2)\n",
    "\n",
    "# store all unique words in an array\n",
    "dimensions = list(set(words_doc1 + words_doc2))"
   ]
  },
  {
   "cell_type": "code",
   "execution_count": 23,
   "id": "c7b37a7d",
   "metadata": {},
   "outputs": [],
   "source": [
    "# form dimension matrix for doc1 and doc2\n",
    "\n",
    "# finds dimension matrix of a doc wrt reference words\n",
    "def dimension_fun(doc, dimensions):\n",
    "    dim = []\n",
    "    for dimension in dimensions:\n",
    "        count = 0\n",
    "        for word in doc:\n",
    "            if(word == dimension):\n",
    "                count = count + 1\n",
    "        dim.append(count)\n",
    "    return dim\n",
    "\n",
    "dim_doc1 = dimension_fun(words_doc1, dimensions)\n",
    "dim_doc2 = dimension_fun(words_doc2, dimensions)\n"
   ]
  },
  {
   "cell_type": "code",
   "execution_count": 42,
   "id": "8043109d",
   "metadata": {},
   "outputs": [],
   "source": [
    "# Normalise Dimension Vector\n",
    "\n",
    "# Function to normalise a vector\n",
    "def norm(doc):\n",
    "    densq = 0\n",
    "    norm = []\n",
    "    for i in doc:\n",
    "        densq = densq + (i * i)\n",
    "    den = math.sqrt(densq)\n",
    "\n",
    "    for i in doc:\n",
    "        val = i / den\n",
    "        norm.append(val)\n",
    "    return norm\n",
    "\n",
    "#Normalised Vectors\n",
    "norm_dim1 = norm(dim_doc1)\n",
    "norm_dim2 = norm(dim_doc2)"
   ]
  },
  {
   "cell_type": "code",
   "execution_count": 43,
   "id": "5e55ed39",
   "metadata": {},
   "outputs": [
    {
     "name": "stdout",
     "output_type": "stream",
     "text": [
      "Cosine distance between doc1.txt & doc2.txt =  0.7136718566608999\n",
      "Cosine similarity =  0.28632814333910006\n",
      "Cosine dissimilarity =  0.7136718566608999\n"
     ]
    }
   ],
   "source": [
    "# Cosine Distance\n",
    "cos_val = 0\n",
    "for i in range(len(norm_dim2)):\n",
    "    cos_val = cos_val + (norm_dim1[i] * norm_dim2[i])\n",
    "\n",
    "cosine_dist = 1 - cos_val\n",
    "\n",
    "print(\"Cosine distance between doc1.txt & doc2.txt = \", cosine_dist)\n",
    "print(\"Cosine similarity = \", cos_val)\n",
    "print(\"Cosine dissimilarity = \", cosine_dist)"
   ]
  },
  {
   "cell_type": "code",
   "execution_count": null,
   "id": "080a506a",
   "metadata": {},
   "outputs": [],
   "source": []
  }
 ],
 "metadata": {
  "kernelspec": {
   "display_name": "Python 3 (ipykernel)",
   "language": "python",
   "name": "python3"
  },
  "language_info": {
   "codemirror_mode": {
    "name": "ipython",
    "version": 3
   },
   "file_extension": ".py",
   "mimetype": "text/x-python",
   "name": "python",
   "nbconvert_exporter": "python",
   "pygments_lexer": "ipython3",
   "version": "3.9.7"
  }
 },
 "nbformat": 4,
 "nbformat_minor": 5
}
