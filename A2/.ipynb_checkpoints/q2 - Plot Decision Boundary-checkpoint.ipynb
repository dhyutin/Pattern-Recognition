{
 "cells": [
  {
   "cell_type": "code",
   "execution_count": 25,
   "id": "93319e18",
   "metadata": {},
   "outputs": [],
   "source": [
    "import math\n",
    "from re import M\n",
    "import numpy as np\n",
    "from sympy import *\n",
    "import matplotlib.pyplot as plt\n",
    "\n",
    "w1 = [[1, -1], [2, -5], [3, -6], [4, -10], [5,-12], [6,-15]]\n",
    "w2 = [[-1, 1], [-2, 5], [-3, 6], [-4, 10], [-5,12], [-6,15]]\n",
    "\n",
    "# 7pw1 = 3pw2\n",
    "Pw1 = 0.3\n",
    "Pw2 = 0.7"
   ]
  },
  {
   "cell_type": "code",
   "execution_count": 26,
   "id": "bc1200b8",
   "metadata": {},
   "outputs": [
    {
     "name": "stdout",
     "output_type": "stream",
     "text": [
      "[{y: -2.99999999999991*x}]\n"
     ]
    }
   ],
   "source": [
    "def find_gx(w):\n",
    "    x_s = []\n",
    "    y_s = []\n",
    "    \n",
    "    s1 = 0\n",
    "    s2 = 0\n",
    "    \n",
    "    for i in w:\n",
    "        s1 = s1 + i[0]\n",
    "        s2 = s2 + i[1]\n",
    "        x_s.append(i[0])\n",
    "        y_s.append(i[1])\n",
    "    MU1 = s1/6\n",
    "    MU2 = s2/6\n",
    "    \n",
    "    cov_w = np.cov(np.stack((w), axis=1))\n",
    "    invcovw = np.linalg.inv(cov_w)\n",
    "    X = list((x, y))\n",
    "    MU = list((MU1, MU2))\n",
    "\n",
    "    diff = list(np.subtract(X, MU))\n",
    "    diff_t = list(np.transpose(diff))\n",
    "\n",
    "    d1 = np.dot(diff_t, invcovw)\n",
    "    d2 = np.dot(d1, diff)\n",
    "\n",
    "    val = log(1 / (2 * np.pi * sqrt(abs(np.linalg.det(np.linalg.inv(invcovw1)))))) + ((-1/2) * d2) \n",
    "\n",
    "    gx = val + log(Pw1)\n",
    "    \n",
    "    return gx\n",
    "\n",
    "g1x = find_gx(w1)\n",
    "g2x = find_gx(w2)\n",
    "\n",
    "gx = solve(g1x-g2x, y, dict = True)\n",
    "\n",
    "print(gx)\n",
    "\n"
   ]
  },
  {
   "cell_type": "code",
   "execution_count": 27,
   "id": "59e4439f",
   "metadata": {},
   "outputs": [
    {
     "name": "stdout",
     "output_type": "stream",
     "text": [
      "The Decision Boundary is : y = -2.99999999999991*x \n",
      "\n",
      "[-10.          -7.77777778  -5.55555556  -3.33333333  -1.11111111\n",
      "   1.11111111   3.33333333   5.55555556   7.77777778  10.        ]\n",
      "[29.999999999999098, 23.333333333332632, 16.666666666666167, 9.999999999999698, 3.333333333333232, -3.333333333333232, -9.999999999999702, -16.66666666666617, -23.333333333332636, -29.999999999999098]\n"
     ]
    },
    {
     "data": {
      "image/png": "[encoded data removed]",
      "text/plain": [
       "<Figure size 432x288 with 1 Axes>"
      ]
     },
     "metadata": {
      "needs_background": "light"
     },
     "output_type": "display_data"
    },
    {
     "name": "stdout",
     "output_type": "stream",
     "text": [
      "[[ 3.5        -9.5       ]\n",
      " [-9.5        26.16666667]]\n",
      "[[ 3.5        -9.5       ]\n",
      " [-9.5        26.16666667]]\n"
     ]
    }
   ],
   "source": [
    "print(\"The Decision Boundary is : y =\", gx[0][y], '\\n')\n",
    "xx = np.linspace(-10, 10, 10)\n",
    "yy = [lambdify(x, gx[0][y])(val) for val in xx]\n",
    "plt.plot(xx, yy)\n",
    "\n",
    "print(xx)\n",
    "print(yy)\n",
    "\n",
    "plt.scatter(Xvals1, Yvals1, label=\"Class1\", color=\"green\", s = 30)\n",
    "plt.scatter(Xvals2, Yvals2, label=\"Class2\", color=\"red\" ,s = 30) \n",
    "plt.legend()\n",
    "plt.show()\n",
    "\n",
    "\n",
    "print(cov_w1)\n",
    "print(cov_w2)"
   ]
  },
  {
   "cell_type": "code",
   "execution_count": null,
   "id": "86e75502",
   "metadata": {},
   "outputs": [],
   "source": []
  }
 ],
 "metadata": {
  "kernelspec": {
   "display_name": "Python 3 (ipykernel)",
   "language": "python",
   "name": "python3"
  },
  "language_info": {
   "codemirror_mode": {
    "name": "ipython",
    "version": 3
   },
   "file_extension": ".py",
   "mimetype": "text/x-python",
   "name": "python",
   "nbconvert_exporter": "python",
   "pygments_lexer": "ipython3",
   "version": "3.9.7"
  }
 },
 "nbformat": 4,
 "nbformat_minor": 5
}
