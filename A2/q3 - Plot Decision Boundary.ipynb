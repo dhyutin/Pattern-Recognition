{
 "cells": [
  {
   "cell_type": "code",
   "execution_count": 15,
   "id": "f68b2bc0",
   "metadata": {},
   "outputs": [],
   "source": [
    "from matplotlib import pyplot as plt\n",
    "import numpy as np\n",
    "from sympy import *\n",
    "\n",
    "\n",
    "w1 = [[2, 6], [3, 4], [3, 8], [4, 6]]\n",
    "w2 = [[3, 0] ,[1, -2], [3, -4], [5, -2]]\n",
    "\n",
    "# pw1 = pw2\n",
    "Pw1 = 0.5\n",
    "Pw2 = 0.5\n",
    "\n",
    "x = Symbol('x')\n",
    "y =Symbol('y')"
   ]
  },
  {
   "cell_type": "code",
   "execution_count": 16,
   "id": "1516cac2",
   "metadata": {},
   "outputs": [],
   "source": [
    "def NPDF(a, b, inv):\n",
    "    diff_t = [list(np.subtract(a, b))]\n",
    "    diff = np.transpose(diff_t)\n",
    "    d1 = np.dot(diff_t, inv)\n",
    "    d2 = np.dot(d1, diff)\n",
    "    print(d2[0][0])\n",
    "    return log(1 / (2 * np.pi * sqrt(abs(np.linalg.det(np.linalg.inv(inv)))))) + ((-1/2) * d2[0][0]) "
   ]
  },
  {
   "cell_type": "code",
   "execution_count": 13,
   "id": "bc8798ab",
   "metadata": {},
   "outputs": [
    {
     "name": "stdout",
     "output_type": "stream",
     "text": [
      "(x - 3.0)*(1.5*x - 4.5) + (0.375*y - 2.25)*(y - 6.0)\n",
      "Discriminant Function 1: g1(x,y) = -0.5*(x - 3.0)*(1.5*x - 4.5) - 0.5*(0.375*y - 2.25)*(y - 6.0) - 2.81870631942107 \n",
      "\n",
      "(0.375*x - 1.125)*(x - 3.0) + (0.375*y + 0.75)*(y + 2.0)\n",
      "Discriminant Function 2: g2(x, y) = -0.5*(0.375*x - 1.125)*(x - 3.0) - 0.5*(0.375*y + 0.75)*(y + 2.0) - 3.51185349998102 \n",
      "\n",
      "[{y: 0.1875*x**2 - 1.125*x + 3.45645093981335}]\n"
     ]
    }
   ],
   "source": [
    "xlst1 = [pt[0] for pt in w1]\n",
    "ylst1 = [pt[1] for pt in w1]\n",
    "xmean1 = np.mean(xlst1)\n",
    "ymean1 = np.mean(ylst1)\n",
    "inv1 = np.linalg.inv(np.cov(np.stack((xlst1, ylst1), axis=0)))\n",
    "gx1 = log(Pw1) + NPDF(list((x, y)), list((xmean1, ymean1)), inv1)\n",
    "print(\"Discriminant Function 1: g1(x,y) =\", gx1,'\\n')                   \n",
    "\n",
    "xlst2 = [pt[0] for pt in w2]\n",
    "ylst2 = [pt[1] for pt in w2]\n",
    "xmean2 = np.mean(xlst2)\n",
    "ymean2 = np.mean(ylst2)\n",
    "inv2 = np.linalg.inv(np.cov(np.stack((xlst2, ylst2), axis=0)))\n",
    "gx2 = log(Pw2) + NPDF(list((x, y)), list((xmean2, ymean2)), inv2)\n",
    "print(\"Discriminant Function 2: g2(x, y) =\",gx2,'\\n')\n",
    "gx = solve(gx1-gx2, dict = True)\n",
    "print(gx)"
   ]
  },
  {
   "cell_type": "code",
   "execution_count": 14,
   "id": "6df0c4c3",
   "metadata": {},
   "outputs": [
    {
     "name": "stdout",
     "output_type": "stream",
     "text": [
      "The Decision Boundary is : y = 0.1875*x**2 - 1.125*x + 3.45645093981335 \n",
      "\n"
     ]
    },
    {
     "data": {
      "image/png": "[encoded data removed]",
      "text/plain": [
       "<Figure size 432x288 with 1 Axes>"
      ]
     },
     "metadata": {
      "needs_background": "light"
     },
     "output_type": "display_data"
    }
   ],
   "source": [
    "# Plot graph marking the decision bundary\n",
    "print(\"The Decision Boundary is : y =\", gx[0][y],'\\n')\n",
    "\n",
    "xx = np.linspace(-10, 10, 10)\n",
    "yy = [lambdify(x, gx[0][y])(val) for val in xx]\n",
    "plt.plot(xx,np.transpose(yy))\n",
    "plt.scatter(xlst1, ylst1, label=\"Class1\", color=\"green\", s = 30)\n",
    "plt.scatter(xlst2, ylst2, label=\"Class2\", color=\"red\", s = 30) \n",
    "plt.legend()\n",
    "plt.show()"
   ]
  },
  {
   "cell_type": "code",
   "execution_count": null,
   "id": "1137ca4d",
   "metadata": {},
   "outputs": [],
   "source": []
  }
 ],
 "metadata": {
  "kernelspec": {
   "display_name": "Python 3 (ipykernel)",
   "language": "python",
   "name": "python3"
  },
  "language_info": {
   "codemirror_mode": {
    "name": "ipython",
    "version": 3
   },
   "file_extension": ".py",
   "mimetype": "text/x-python",
   "name": "python",
   "nbconvert_exporter": "python",
   "pygments_lexer": "ipython3",
   "version": "3.9.7"
  }
 },
 "nbformat": 4,
 "nbformat_minor": 5
}
